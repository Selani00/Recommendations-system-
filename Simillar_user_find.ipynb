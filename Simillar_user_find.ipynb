{
 "cells": [
  {
   "cell_type": "markdown",
   "metadata": {},
   "source": [
    "Request\n",
    "\n",
    "- User ID\n",
    "- User searching country\n",
    "- expecting shops count as result\n",
    "\n",
    "\n",
    "Response\n",
    "\n",
    "- listed shops id arrays\n",
    "\n",
    "User   \n",
    "\n",
    "userID  \n",
    "Q1={'Beauty & Wellness', 'Events & Spaces'}\n",
    "Q2={'Salons', 'Spa'}\n",
    "Q3={'Hair cut', 'Nail Care'}\n",
    "Q4=18-24\n",
    "Q5=male\n",
    "Q6=2000-5000\n",
    "Q7=colombo\n",
    "\n",
    "\n",
    "User Behavior  \n",
    "\n",
    "ShopID  \n",
    "userID  \n",
    "Booking_count  \n",
    "Average_Booking_cost  \n",
    "\n",
    "\n",
    "Shop  \n",
    "\n",
    "Shop ID  \n",
    "ShopName  \n",
    "country \n",
    "Location_name  \n",
    "Location_long  \n",
    "Location_lat  \n",
    "Description \n",
    "Shop_categories (beauty & wellness, ...) \n",
    "Shop_categories (spa, saloon)   \n",
    "Available_package_types (hair care, nail care)\n",
    "Total_Paid_Ads_Count_Current_Month  \n",
    "Total_Reviews_Count_Current_Month  \n",
    "Total_Bookings_Count_Current_Month  \n",
    "  \n",
    "\n",
    "Shop Behaviors  \n",
    "\n",
    "Shop_ID  \n",
    "Total_Paid_Ads_Count_Current_Month  \n",
    "Total_Reviews_Count_Current_Month  \n",
    "Total_Bookings_Count_Current_Month"
   ]
  },
  {
   "cell_type": "code",
   "execution_count": 3,
   "metadata": {},
   "outputs": [],
   "source": [
    "import pandas as pd\n",
    "\n",
    "\n",
    "from sklearn.feature_extraction.text import CountVectorizer\n",
    "from sklearn.metrics.pairwise import cosine_similarity\n",
    "from sklearn.preprocessing import MultiLabelBinarizer\n",
    "from sklearn.neighbors import NearestNeighbors"
   ]
  },
  {
   "cell_type": "code",
   "execution_count": 4,
   "metadata": {},
   "outputs": [
    {
     "data": {
      "text/html": [
       "<div>\n",
       "<style scoped>\n",
       "    .dataframe tbody tr th:only-of-type {\n",
       "        vertical-align: middle;\n",
       "    }\n",
       "\n",
       "    .dataframe tbody tr th {\n",
       "        vertical-align: top;\n",
       "    }\n",
       "\n",
       "    .dataframe thead th {\n",
       "        text-align: right;\n",
       "    }\n",
       "</style>\n",
       "<table border=\"1\" class=\"dataframe\">\n",
       "  <thead>\n",
       "    <tr style=\"text-align: right;\">\n",
       "      <th></th>\n",
       "      <th>UserID</th>\n",
       "      <th>Q1</th>\n",
       "      <th>Q2</th>\n",
       "      <th>Q3</th>\n",
       "      <th>Q4</th>\n",
       "      <th>Q6</th>\n",
       "      <th>Q7</th>\n",
       "      <th>Q8</th>\n",
       "      <th>Q10</th>\n",
       "    </tr>\n",
       "  </thead>\n",
       "  <tbody>\n",
       "    <tr>\n",
       "      <th>0</th>\n",
       "      <td>1</td>\n",
       "      <td>{'Education &amp; Experts'}</td>\n",
       "      <td>{'Therapy'}</td>\n",
       "      <td>25-34</td>\n",
       "      <td>Male</td>\n",
       "      <td>{'Skin Care', 'Nail Care', 'Hair cut'}</td>\n",
       "      <td>LKR 5,000 - LKR 10,000</td>\n",
       "      <td>Galle</td>\n",
       "      <td>{'Other'}</td>\n",
       "    </tr>\n",
       "    <tr>\n",
       "      <th>1</th>\n",
       "      <td>2</td>\n",
       "      <td>{'In-Demand Ser'}</td>\n",
       "      <td>{'Therapy'}</td>\n",
       "      <td>45-54</td>\n",
       "      <td>Male</td>\n",
       "      <td>{'Nail Care', 'Hair cut'}</td>\n",
       "      <td>LKR 2,000 - LKR 5,000</td>\n",
       "      <td>Negombo</td>\n",
       "      <td>{'Keratin or protein treatments'}</td>\n",
       "    </tr>\n",
       "    <tr>\n",
       "      <th>2</th>\n",
       "      <td>3</td>\n",
       "      <td>{'Fashion &amp; Style'}</td>\n",
       "      <td>{'Cosmetic Services'}</td>\n",
       "      <td>55+</td>\n",
       "      <td>Female</td>\n",
       "      <td>{'Nail Care', 'Hair cut'}</td>\n",
       "      <td>LKR 5,000 - LKR 10,000</td>\n",
       "      <td>Jaffna</td>\n",
       "      <td>{'Scalp treatments and massages'}</td>\n",
       "    </tr>\n",
       "    <tr>\n",
       "      <th>3</th>\n",
       "      <td>4</td>\n",
       "      <td>{'Fashion &amp; Style'}</td>\n",
       "      <td>{'Cosmetic Services'}</td>\n",
       "      <td>35-44</td>\n",
       "      <td>Female</td>\n",
       "      <td>{'Skin Care', 'Nail Care', 'Hair cut'}</td>\n",
       "      <td>LKR 10,000 - LKR 15,000</td>\n",
       "      <td>Nugegoda</td>\n",
       "      <td>{'Other'}</td>\n",
       "    </tr>\n",
       "    <tr>\n",
       "      <th>4</th>\n",
       "      <td>5</td>\n",
       "      <td>{'Education &amp; Experts'}</td>\n",
       "      <td>{'Therapy'}</td>\n",
       "      <td>25-34</td>\n",
       "      <td>Male</td>\n",
       "      <td>{'Skin Care'}</td>\n",
       "      <td>LKR 20,000+</td>\n",
       "      <td>Kandy</td>\n",
       "      <td>{'Hair colouring (e.g., balayage, highlights)'...</td>\n",
       "    </tr>\n",
       "  </tbody>\n",
       "</table>\n",
       "</div>"
      ],
      "text/plain": [
       "   UserID                       Q1                     Q2     Q3      Q4  \\\n",
       "0       1  {'Education & Experts'}            {'Therapy'}  25-34    Male   \n",
       "1       2        {'In-Demand Ser'}            {'Therapy'}  45-54    Male   \n",
       "2       3      {'Fashion & Style'}  {'Cosmetic Services'}    55+  Female   \n",
       "3       4      {'Fashion & Style'}  {'Cosmetic Services'}  35-44  Female   \n",
       "4       5  {'Education & Experts'}            {'Therapy'}  25-34    Male   \n",
       "\n",
       "                                       Q6                       Q7        Q8  \\\n",
       "0  {'Skin Care', 'Nail Care', 'Hair cut'}   LKR 5,000 - LKR 10,000     Galle   \n",
       "1               {'Nail Care', 'Hair cut'}    LKR 2,000 - LKR 5,000   Negombo   \n",
       "2               {'Nail Care', 'Hair cut'}   LKR 5,000 - LKR 10,000    Jaffna   \n",
       "3  {'Skin Care', 'Nail Care', 'Hair cut'}  LKR 10,000 - LKR 15,000  Nugegoda   \n",
       "4                           {'Skin Care'}              LKR 20,000+     Kandy   \n",
       "\n",
       "                                                 Q10  \n",
       "0                                          {'Other'}  \n",
       "1                  {'Keratin or protein treatments'}  \n",
       "2                  {'Scalp treatments and massages'}  \n",
       "3                                          {'Other'}  \n",
       "4  {'Hair colouring (e.g., balayage, highlights)'...  "
      ]
     },
     "execution_count": 4,
     "metadata": {},
     "output_type": "execute_result"
    }
   ],
   "source": [
    "user_data = pd.read_excel('Users_Data.xlsx')\n",
    "user_data.head()"
   ]
  },
  {
   "cell_type": "markdown",
   "metadata": {},
   "source": [
    "### Handle Array-like Columns:"
   ]
  },
  {
   "cell_type": "code",
   "execution_count": 5,
   "metadata": {},
   "outputs": [],
   "source": [
    "mlb = MultiLabelBinarizer()\n",
    "\n",
    "Q1_binarized = pd.DataFrame(mlb.fit_transform(user_data['Q1']), columns=mlb.classes_, index=user_data.index)\n",
    "Q2_binarized = pd.DataFrame(mlb.fit_transform(user_data['Q2']), columns=mlb.classes_, index=user_data.index)\n",
    "Q6_binarized = pd.DataFrame(mlb.fit_transform(user_data['Q6']), columns=mlb.classes_, index=user_data.index)\n",
    "Q10_binarized = pd.DataFrame(mlb.fit_transform(user_data['Q10']), columns=mlb.classes_, index=user_data.index)\n",
    "# Add binarized data to user_data\n",
    "user_data = pd.concat([user_data, Q1_binarized, Q2_binarized,Q6_binarized,Q10_binarized], axis=1)\n"
   ]
  },
  {
   "cell_type": "code",
   "execution_count": 6,
   "metadata": {},
   "outputs": [],
   "source": [
    "user_data['Q3'] = user_data['Q3'].astype('category').cat.codes\n",
    "user_data['Q4'] = user_data['Q4'].astype('category').cat.codes\n",
    "user_data['Q7'] = user_data['Q7'].astype('category').cat.codes\n",
    "user_data['Q8'] = user_data['Q8'].astype('category').cat.codes"
   ]
  },
  {
   "cell_type": "code",
   "execution_count": 7,
   "metadata": {},
   "outputs": [],
   "source": [
    "user_data = user_data.drop(['Q1', 'Q2', 'Q6', 'Q10'], axis=1)"
   ]
  },
  {
   "cell_type": "code",
   "execution_count": 8,
   "metadata": {},
   "outputs": [
    {
     "data": {
      "text/html": [
       "<div>\n",
       "<style scoped>\n",
       "    .dataframe tbody tr th:only-of-type {\n",
       "        vertical-align: middle;\n",
       "    }\n",
       "\n",
       "    .dataframe tbody tr th {\n",
       "        vertical-align: top;\n",
       "    }\n",
       "\n",
       "    .dataframe thead th {\n",
       "        text-align: right;\n",
       "    }\n",
       "</style>\n",
       "<table border=\"1\" class=\"dataframe\">\n",
       "  <thead>\n",
       "    <tr style=\"text-align: right;\">\n",
       "      <th></th>\n",
       "      <th>UserID</th>\n",
       "      <th>Q3</th>\n",
       "      <th>Q4</th>\n",
       "      <th>Q7</th>\n",
       "      <th>Q8</th>\n",
       "      <th></th>\n",
       "      <th>&amp;</th>\n",
       "      <th>'</th>\n",
       "      <th>,</th>\n",
       "      <th>-</th>\n",
       "      <th>...</th>\n",
       "      <th>o</th>\n",
       "      <th>p</th>\n",
       "      <th>r</th>\n",
       "      <th>s</th>\n",
       "      <th>t</th>\n",
       "      <th>u</th>\n",
       "      <th>w</th>\n",
       "      <th>y</th>\n",
       "      <th>{</th>\n",
       "      <th>}</th>\n",
       "    </tr>\n",
       "  </thead>\n",
       "  <tbody>\n",
       "    <tr>\n",
       "      <th>0</th>\n",
       "      <td>1</td>\n",
       "      <td>1</td>\n",
       "      <td>1</td>\n",
       "      <td>4</td>\n",
       "      <td>2</td>\n",
       "      <td>1</td>\n",
       "      <td>1</td>\n",
       "      <td>1</td>\n",
       "      <td>0</td>\n",
       "      <td>0</td>\n",
       "      <td>...</td>\n",
       "      <td>0</td>\n",
       "      <td>0</td>\n",
       "      <td>1</td>\n",
       "      <td>0</td>\n",
       "      <td>1</td>\n",
       "      <td>0</td>\n",
       "      <td>0</td>\n",
       "      <td>0</td>\n",
       "      <td>1</td>\n",
       "      <td>1</td>\n",
       "    </tr>\n",
       "    <tr>\n",
       "      <th>1</th>\n",
       "      <td>2</td>\n",
       "      <td>3</td>\n",
       "      <td>1</td>\n",
       "      <td>2</td>\n",
       "      <td>6</td>\n",
       "      <td>1</td>\n",
       "      <td>0</td>\n",
       "      <td>1</td>\n",
       "      <td>0</td>\n",
       "      <td>1</td>\n",
       "      <td>...</td>\n",
       "      <td>1</td>\n",
       "      <td>1</td>\n",
       "      <td>1</td>\n",
       "      <td>1</td>\n",
       "      <td>1</td>\n",
       "      <td>0</td>\n",
       "      <td>0</td>\n",
       "      <td>0</td>\n",
       "      <td>1</td>\n",
       "      <td>1</td>\n",
       "    </tr>\n",
       "    <tr>\n",
       "      <th>2</th>\n",
       "      <td>3</td>\n",
       "      <td>4</td>\n",
       "      <td>0</td>\n",
       "      <td>4</td>\n",
       "      <td>3</td>\n",
       "      <td>1</td>\n",
       "      <td>1</td>\n",
       "      <td>1</td>\n",
       "      <td>0</td>\n",
       "      <td>0</td>\n",
       "      <td>...</td>\n",
       "      <td>0</td>\n",
       "      <td>1</td>\n",
       "      <td>1</td>\n",
       "      <td>1</td>\n",
       "      <td>1</td>\n",
       "      <td>0</td>\n",
       "      <td>0</td>\n",
       "      <td>0</td>\n",
       "      <td>1</td>\n",
       "      <td>1</td>\n",
       "    </tr>\n",
       "    <tr>\n",
       "      <th>3</th>\n",
       "      <td>4</td>\n",
       "      <td>2</td>\n",
       "      <td>0</td>\n",
       "      <td>0</td>\n",
       "      <td>7</td>\n",
       "      <td>1</td>\n",
       "      <td>1</td>\n",
       "      <td>1</td>\n",
       "      <td>0</td>\n",
       "      <td>0</td>\n",
       "      <td>...</td>\n",
       "      <td>0</td>\n",
       "      <td>0</td>\n",
       "      <td>1</td>\n",
       "      <td>0</td>\n",
       "      <td>1</td>\n",
       "      <td>0</td>\n",
       "      <td>0</td>\n",
       "      <td>0</td>\n",
       "      <td>1</td>\n",
       "      <td>1</td>\n",
       "    </tr>\n",
       "    <tr>\n",
       "      <th>4</th>\n",
       "      <td>5</td>\n",
       "      <td>1</td>\n",
       "      <td>1</td>\n",
       "      <td>3</td>\n",
       "      <td>4</td>\n",
       "      <td>1</td>\n",
       "      <td>1</td>\n",
       "      <td>1</td>\n",
       "      <td>0</td>\n",
       "      <td>0</td>\n",
       "      <td>...</td>\n",
       "      <td>1</td>\n",
       "      <td>0</td>\n",
       "      <td>1</td>\n",
       "      <td>1</td>\n",
       "      <td>1</td>\n",
       "      <td>1</td>\n",
       "      <td>1</td>\n",
       "      <td>1</td>\n",
       "      <td>1</td>\n",
       "      <td>1</td>\n",
       "    </tr>\n",
       "  </tbody>\n",
       "</table>\n",
       "<p>5 rows × 119 columns</p>\n",
       "</div>"
      ],
      "text/plain": [
       "   UserID  Q3  Q4  Q7  Q8     &  '  ,  -  ...  o  p  r  s  t  u  w  y  {  }\n",
       "0       1   1   1   4   2  1  1  1  0  0  ...  0  0  1  0  1  0  0  0  1  1\n",
       "1       2   3   1   2   6  1  0  1  0  1  ...  1  1  1  1  1  0  0  0  1  1\n",
       "2       3   4   0   4   3  1  1  1  0  0  ...  0  1  1  1  1  0  0  0  1  1\n",
       "3       4   2   0   0   7  1  1  1  0  0  ...  0  0  1  0  1  0  0  0  1  1\n",
       "4       5   1   1   3   4  1  1  1  0  0  ...  1  0  1  1  1  1  1  1  1  1\n",
       "\n",
       "[5 rows x 119 columns]"
      ]
     },
     "execution_count": 8,
     "metadata": {},
     "output_type": "execute_result"
    }
   ],
   "source": [
    "user_data.head()"
   ]
  },
  {
   "cell_type": "code",
   "execution_count": 9,
   "metadata": {},
   "outputs": [
    {
     "data": {
      "text/plain": [
       "(100, 119)"
      ]
     },
     "execution_count": 9,
     "metadata": {},
     "output_type": "execute_result"
    }
   ],
   "source": [
    "user_data.shape\n"
   ]
  },
  {
   "cell_type": "markdown",
   "metadata": {},
   "source": [
    "### Define feature columns"
   ]
  },
  {
   "cell_type": "code",
   "execution_count": 10,
   "metadata": {},
   "outputs": [],
   "source": [
    "X = user_data.drop(['UserID'], axis=1)  # Features\n",
    "user_ids = user_data['UserID']  # User IDs\n"
   ]
  },
  {
   "cell_type": "code",
   "execution_count": 11,
   "metadata": {},
   "outputs": [
    {
     "data": {
      "text/plain": [
       "(100, 118)"
      ]
     },
     "execution_count": 11,
     "metadata": {},
     "output_type": "execute_result"
    }
   ],
   "source": [
    "X.shape"
   ]
  },
  {
   "cell_type": "code",
   "execution_count": 12,
   "metadata": {},
   "outputs": [
    {
     "name": "stdout",
     "output_type": "stream",
     "text": [
      "Training Features (X): ['Q3', 'Q4', 'Q7', 'Q8', ' ', '&', \"'\", ',', '-', 'B', 'D', 'E', 'F', 'H', 'I', 'M', 'S', 'T', 'W', 'a', 'c', 'd', 'e', 'h', 'i', 'l', 'm', 'n', 'o', 'p', 'r', 's', 't', 'u', 'v', 'x', 'y', '{', '}', ' ', \"'\", ',', 'B', 'C', 'F', 'S', 'T', 'a', 'c', 'd', 'e', 'h', 'i', 'l', 'm', 'n', 'o', 'p', 'r', 's', 't', 'v', 'y', '{', '}', ' ', \"'\", ',', 'C', 'H', 'N', 'S', 'a', 'c', 'e', 'i', 'k', 'l', 'n', 'r', 't', 'u', '{', '}', ' ', \"'\", '(', ')', ',', '.', 'B', 'C', 'H', 'K', 'O', 'S', 'a', 'b', 'c', 'd', 'e', 'g', 'h', 'i', 'k', 'l', 'm', 'n', 'o', 'p', 'r', 's', 't', 'u', 'w', 'y', '{', '}']\n"
     ]
    }
   ],
   "source": [
    "print(\"Training Features (X):\", X.columns.tolist())"
   ]
  },
  {
   "cell_type": "code",
   "execution_count": 13,
   "metadata": {},
   "outputs": [
    {
     "name": "stdout",
     "output_type": "stream",
     "text": [
      "Duplicate columns in X: [' ', \"'\", ',', 'B', 'F', 'S', 'T', 'a', 'c', 'd', 'e', 'h', 'i', 'l', 'm', 'n', 'o', 'p', 'r', 's', 't', 'v', 'y', '{', '}', ' ', \"'\", ',', 'C', 'H', 'S', 'a', 'c', 'e', 'i', 'l', 'n', 'r', 't', 'u', '{', '}', ' ', \"'\", ',', 'B', 'C', 'H', 'S', 'a', 'c', 'd', 'e', 'h', 'i', 'k', 'l', 'm', 'n', 'o', 'p', 'r', 's', 't', 'u', 'y', '{', '}']\n"
     ]
    }
   ],
   "source": [
    "print(\"Duplicate columns in X:\", X.columns[X.columns.duplicated()].tolist())"
   ]
  },
  {
   "cell_type": "code",
   "execution_count": 14,
   "metadata": {},
   "outputs": [],
   "source": [
    "X = X.loc[:, ~X.columns.duplicated()]"
   ]
  },
  {
   "cell_type": "code",
   "execution_count": 15,
   "metadata": {},
   "outputs": [
    {
     "name": "stdout",
     "output_type": "stream",
     "text": [
      "Duplicate columns in X (after deduplication): []\n"
     ]
    }
   ],
   "source": [
    "print(\"Duplicate columns in X (after deduplication):\", X.columns[X.columns.duplicated()].tolist())"
   ]
  },
  {
   "cell_type": "code",
   "execution_count": 16,
   "metadata": {},
   "outputs": [
    {
     "data": {
      "text/plain": [
       "(100, 50)"
      ]
     },
     "execution_count": 16,
     "metadata": {},
     "output_type": "execute_result"
    }
   ],
   "source": [
    "X.shape"
   ]
  },
  {
   "cell_type": "code",
   "execution_count": 17,
   "metadata": {},
   "outputs": [
    {
     "data": {
      "text/html": [
       "<style>#sk-container-id-1 {color: black;}#sk-container-id-1 pre{padding: 0;}#sk-container-id-1 div.sk-toggleable {background-color: white;}#sk-container-id-1 label.sk-toggleable__label {cursor: pointer;display: block;width: 100%;margin-bottom: 0;padding: 0.3em;box-sizing: border-box;text-align: center;}#sk-container-id-1 label.sk-toggleable__label-arrow:before {content: \"▸\";float: left;margin-right: 0.25em;color: #696969;}#sk-container-id-1 label.sk-toggleable__label-arrow:hover:before {color: black;}#sk-container-id-1 div.sk-estimator:hover label.sk-toggleable__label-arrow:before {color: black;}#sk-container-id-1 div.sk-toggleable__content {max-height: 0;max-width: 0;overflow: hidden;text-align: left;background-color: #f0f8ff;}#sk-container-id-1 div.sk-toggleable__content pre {margin: 0.2em;color: black;border-radius: 0.25em;background-color: #f0f8ff;}#sk-container-id-1 input.sk-toggleable__control:checked~div.sk-toggleable__content {max-height: 200px;max-width: 100%;overflow: auto;}#sk-container-id-1 input.sk-toggleable__control:checked~label.sk-toggleable__label-arrow:before {content: \"▾\";}#sk-container-id-1 div.sk-estimator input.sk-toggleable__control:checked~label.sk-toggleable__label {background-color: #d4ebff;}#sk-container-id-1 div.sk-label input.sk-toggleable__control:checked~label.sk-toggleable__label {background-color: #d4ebff;}#sk-container-id-1 input.sk-hidden--visually {border: 0;clip: rect(1px 1px 1px 1px);clip: rect(1px, 1px, 1px, 1px);height: 1px;margin: -1px;overflow: hidden;padding: 0;position: absolute;width: 1px;}#sk-container-id-1 div.sk-estimator {font-family: monospace;background-color: #f0f8ff;border: 1px dotted black;border-radius: 0.25em;box-sizing: border-box;margin-bottom: 0.5em;}#sk-container-id-1 div.sk-estimator:hover {background-color: #d4ebff;}#sk-container-id-1 div.sk-parallel-item::after {content: \"\";width: 100%;border-bottom: 1px solid gray;flex-grow: 1;}#sk-container-id-1 div.sk-label:hover label.sk-toggleable__label {background-color: #d4ebff;}#sk-container-id-1 div.sk-serial::before {content: \"\";position: absolute;border-left: 1px solid gray;box-sizing: border-box;top: 0;bottom: 0;left: 50%;z-index: 0;}#sk-container-id-1 div.sk-serial {display: flex;flex-direction: column;align-items: center;background-color: white;padding-right: 0.2em;padding-left: 0.2em;position: relative;}#sk-container-id-1 div.sk-item {position: relative;z-index: 1;}#sk-container-id-1 div.sk-parallel {display: flex;align-items: stretch;justify-content: center;background-color: white;position: relative;}#sk-container-id-1 div.sk-item::before, #sk-container-id-1 div.sk-parallel-item::before {content: \"\";position: absolute;border-left: 1px solid gray;box-sizing: border-box;top: 0;bottom: 0;left: 50%;z-index: -1;}#sk-container-id-1 div.sk-parallel-item {display: flex;flex-direction: column;z-index: 1;position: relative;background-color: white;}#sk-container-id-1 div.sk-parallel-item:first-child::after {align-self: flex-end;width: 50%;}#sk-container-id-1 div.sk-parallel-item:last-child::after {align-self: flex-start;width: 50%;}#sk-container-id-1 div.sk-parallel-item:only-child::after {width: 0;}#sk-container-id-1 div.sk-dashed-wrapped {border: 1px dashed gray;margin: 0 0.4em 0.5em 0.4em;box-sizing: border-box;padding-bottom: 0.4em;background-color: white;}#sk-container-id-1 div.sk-label label {font-family: monospace;font-weight: bold;display: inline-block;line-height: 1.2em;}#sk-container-id-1 div.sk-label-container {text-align: center;}#sk-container-id-1 div.sk-container {/* jupyter's `normalize.less` sets `[hidden] { display: none; }` but bootstrap.min.css set `[hidden] { display: none !important; }` so we also need the `!important` here to be able to override the default hidden behavior on the sphinx rendered scikit-learn.org. See: https://github.com/scikit-learn/scikit-learn/issues/21755 */display: inline-block !important;position: relative;}#sk-container-id-1 div.sk-text-repr-fallback {display: none;}</style><div id=\"sk-container-id-1\" class=\"sk-top-container\"><div class=\"sk-text-repr-fallback\"><pre>NearestNeighbors(metric=&#x27;cosine&#x27;, n_neighbors=10)</pre><b>In a Jupyter environment, please rerun this cell to show the HTML representation or trust the notebook. <br />On GitHub, the HTML representation is unable to render, please try loading this page with nbviewer.org.</b></div><div class=\"sk-container\" hidden><div class=\"sk-item\"><div class=\"sk-estimator sk-toggleable\"><input class=\"sk-toggleable__control sk-hidden--visually\" id=\"sk-estimator-id-1\" type=\"checkbox\" checked><label for=\"sk-estimator-id-1\" class=\"sk-toggleable__label sk-toggleable__label-arrow\">NearestNeighbors</label><div class=\"sk-toggleable__content\"><pre>NearestNeighbors(metric=&#x27;cosine&#x27;, n_neighbors=10)</pre></div></div></div></div></div>"
      ],
      "text/plain": [
       "NearestNeighbors(metric='cosine', n_neighbors=10)"
      ]
     },
     "execution_count": 17,
     "metadata": {},
     "output_type": "execute_result"
    }
   ],
   "source": [
    "knn_model = NearestNeighbors(n_neighbors=10, metric='cosine')\n",
    "knn_model.fit(X)\n"
   ]
  },
  {
   "cell_type": "code",
   "execution_count": 34,
   "metadata": {},
   "outputs": [
    {
     "name": "stderr",
     "output_type": "stream",
     "text": [
      "c:\\Users\\DELL\\.conda\\envs\\condaenv\\Lib\\site-packages\\sklearn\\preprocessing\\_label.py:900: UserWarning: unknown class(es) ['Beauty & Wellness', 'Travel & Stay'] will be ignored\n",
      "  warnings.warn(\n",
      "c:\\Users\\DELL\\.conda\\envs\\condaenv\\Lib\\site-packages\\sklearn\\preprocessing\\_label.py:900: UserWarning: unknown class(es) ['Salon', 'Spa'] will be ignored\n",
      "  warnings.warn(\n",
      "c:\\Users\\DELL\\.conda\\envs\\condaenv\\Lib\\site-packages\\sklearn\\preprocessing\\_label.py:900: UserWarning: unknown class(es) ['Hair cut', 'Nail Care', 'Skin Care'] will be ignored\n",
      "  warnings.warn(\n",
      "c:\\Users\\DELL\\.conda\\envs\\condaenv\\Lib\\site-packages\\sklearn\\preprocessing\\_label.py:900: UserWarning: unknown class(es) ['Classic manicures and pedicures'] will be ignored\n",
      "  warnings.warn(\n"
     ]
    }
   ],
   "source": [
    "new_user_data = {\n",
    "    'Q1': {'Beauty & Wellness', 'Travel & Stay'},\n",
    "    'Q2': {'Spa', 'Salon'},\n",
    "    'Q3': '18-24',\n",
    "    'Q4': 'Female',\n",
    "    'Q6' : {'Skin Care', 'Nail Care', 'Hair cut'},\n",
    "    'Q7': 'LKR 10,000 - LKR 15,000',\n",
    "    'Q8': 'Galle',\n",
    "    'Q10': {'Classic manicures and pedicures'}\n",
    "}\n",
    "\n",
    "new_user = pd.DataFrame([new_user_data])\n",
    "\n",
    "Q1_binarized = pd.DataFrame(mlb.transform(new_user['Q1']), columns=mlb.classes_)\n",
    "Q2_binarized = pd.DataFrame(mlb.transform(new_user['Q2']), columns=mlb.classes_)\n",
    "Q6_binarized = pd.DataFrame(mlb.transform(new_user['Q6']), columns=mlb.classes_)\n",
    "Q10_binarized = pd.DataFrame(mlb.transform(new_user['Q10']), columns=mlb.classes_)\n",
    "\n",
    "new_user = pd.concat([new_user, Q1_binarized, Q2_binarized,Q6_binarized,Q10_binarized], axis=1)\n",
    "\n",
    "# Convert to the same format as training data\n",
    "\n",
    "new_user['Q3'] = new_user['Q3'].astype('category').cat.codes\n",
    "new_user['Q4'] = new_user['Q4'].astype('category').cat.codes\n",
    "new_user['Q7'] = new_user['Q7'].astype('category').cat.codes\n",
    "new_user['Q8'] = new_user['Q8'].astype('category').cat.codes\n",
    "\n",
    "\n",
    "\n",
    "# Drop original columns after encoding\n",
    "new_user = new_user.drop(['Q1', 'Q2', 'Q6', 'Q10'], axis=1)\n",
    "\n"
   ]
  },
  {
   "cell_type": "code",
   "execution_count": 35,
   "metadata": {},
   "outputs": [
    {
     "name": "stdout",
     "output_type": "stream",
     "text": [
      "New User Features: ['Q3', 'Q4', 'Q7', 'Q8', ' ', \"'\", '(', ')', ',', '.', 'B', 'C', 'H', 'K', 'O', 'S', 'a', 'b', 'c', 'd', 'e', 'g', 'h', 'i', 'k', 'l', 'm', 'n', 'o', 'p', 'r', 's', 't', 'u', 'w', 'y', '{', '}', ' ', \"'\", '(', ')', ',', '.', 'B', 'C', 'H', 'K', 'O', 'S', 'a', 'b', 'c', 'd', 'e', 'g', 'h', 'i', 'k', 'l', 'm', 'n', 'o', 'p', 'r', 's', 't', 'u', 'w', 'y', '{', '}', ' ', \"'\", '(', ')', ',', '.', 'B', 'C', 'H', 'K', 'O', 'S', 'a', 'b', 'c', 'd', 'e', 'g', 'h', 'i', 'k', 'l', 'm', 'n', 'o', 'p', 'r', 's', 't', 'u', 'w', 'y', '{', '}', ' ', \"'\", '(', ')', ',', '.', 'B', 'C', 'H', 'K', 'O', 'S', 'a', 'b', 'c', 'd', 'e', 'g', 'h', 'i', 'k', 'l', 'm', 'n', 'o', 'p', 'r', 's', 't', 'u', 'w', 'y', '{', '}']\n"
     ]
    }
   ],
   "source": [
    "print(\"New User Features:\", new_user.columns.tolist())"
   ]
  },
  {
   "cell_type": "code",
   "execution_count": 36,
   "metadata": {},
   "outputs": [
    {
     "name": "stdout",
     "output_type": "stream",
     "text": [
      "Duplicate columns in new_user: [' ', \"'\", '(', ')', ',', '.', 'B', 'C', 'H', 'K', 'O', 'S', 'a', 'b', 'c', 'd', 'e', 'g', 'h', 'i', 'k', 'l', 'm', 'n', 'o', 'p', 'r', 's', 't', 'u', 'w', 'y', '{', '}', ' ', \"'\", '(', ')', ',', '.', 'B', 'C', 'H', 'K', 'O', 'S', 'a', 'b', 'c', 'd', 'e', 'g', 'h', 'i', 'k', 'l', 'm', 'n', 'o', 'p', 'r', 's', 't', 'u', 'w', 'y', '{', '}', ' ', \"'\", '(', ')', ',', '.', 'B', 'C', 'H', 'K', 'O', 'S', 'a', 'b', 'c', 'd', 'e', 'g', 'h', 'i', 'k', 'l', 'm', 'n', 'o', 'p', 'r', 's', 't', 'u', 'w', 'y', '{', '}']\n"
     ]
    }
   ],
   "source": [
    "# Check for duplicates in new user data columns\n",
    "print(\"Duplicate columns in new_user:\", new_user.columns[new_user.columns.duplicated()].tolist())\n"
   ]
  },
  {
   "cell_type": "code",
   "execution_count": 37,
   "metadata": {},
   "outputs": [],
   "source": [
    "\n",
    "new_user = new_user.loc[:, ~new_user.columns.duplicated()]\n"
   ]
  },
  {
   "cell_type": "code",
   "execution_count": 38,
   "metadata": {},
   "outputs": [
    {
     "name": "stdout",
     "output_type": "stream",
     "text": [
      "Duplicate columns in new_user (after deduplication): []\n"
     ]
    }
   ],
   "source": [
    "print(\"Duplicate columns in new_user (after deduplication):\", new_user.columns[new_user.columns.duplicated()].tolist())"
   ]
  },
  {
   "cell_type": "code",
   "execution_count": 39,
   "metadata": {},
   "outputs": [
    {
     "data": {
      "text/plain": [
       "(1, 38)"
      ]
     },
     "execution_count": 39,
     "metadata": {},
     "output_type": "execute_result"
    }
   ],
   "source": [
    "new_user.shape"
   ]
  },
  {
   "cell_type": "code",
   "execution_count": 40,
   "metadata": {},
   "outputs": [
    {
     "name": "stdout",
     "output_type": "stream",
     "text": [
      "Columns in X: ['Q3', 'Q4', 'Q7', 'Q8', ' ', '&', \"'\", ',', '-', 'B', 'D', 'E', 'F', 'H', 'I', 'M', 'S', 'T', 'W', 'a', 'c', 'd', 'e', 'h', 'i', 'l', 'm', 'n', 'o', 'p', 'r', 's', 't', 'u', 'v', 'x', 'y', '{', '}', 'C', 'N', 'k', '(', ')', '.', 'K', 'O', 'b', 'g', 'w']\n",
      "Columns in new_user: ['Q3', 'Q4', 'Q7', 'Q8', ' ', \"'\", '(', ')', ',', '.', 'B', 'C', 'H', 'K', 'O', 'S', 'a', 'b', 'c', 'd', 'e', 'g', 'h', 'i', 'k', 'l', 'm', 'n', 'o', 'p', 'r', 's', 't', 'u', 'w', 'y', '{', '}']\n"
     ]
    }
   ],
   "source": [
    "print(\"Columns in X:\", X.columns.tolist())\n",
    "print(\"Columns in new_user:\", new_user.columns.tolist())\n"
   ]
  },
  {
   "cell_type": "code",
   "execution_count": 41,
   "metadata": {},
   "outputs": [
    {
     "name": "stdout",
     "output_type": "stream",
     "text": [
      "Number of features in X: 50\n",
      "Columns in X: ['Q3', 'Q4', 'Q7', 'Q8', ' ', '&', \"'\", ',', '-', 'B', 'D', 'E', 'F', 'H', 'I', 'M', 'S', 'T', 'W', 'a', 'c', 'd', 'e', 'h', 'i', 'l', 'm', 'n', 'o', 'p', 'r', 's', 't', 'u', 'v', 'x', 'y', '{', '}', 'C', 'N', 'k', '(', ')', '.', 'K', 'O', 'b', 'g', 'w']\n"
     ]
    }
   ],
   "source": [
    "print(\"Number of features in X:\", X.shape[1])\n",
    "print(\"Columns in X:\", X.columns.tolist())\n"
   ]
  },
  {
   "cell_type": "code",
   "execution_count": 42,
   "metadata": {},
   "outputs": [
    {
     "name": "stdout",
     "output_type": "stream",
     "text": [
      "Number of features in new_user: 38\n",
      "Columns in new_user: ['Q3', 'Q4', 'Q7', 'Q8', ' ', \"'\", '(', ')', ',', '.', 'B', 'C', 'H', 'K', 'O', 'S', 'a', 'b', 'c', 'd', 'e', 'g', 'h', 'i', 'k', 'l', 'm', 'n', 'o', 'p', 'r', 's', 't', 'u', 'w', 'y', '{', '}']\n"
     ]
    }
   ],
   "source": [
    "print(\"Number of features in new_user:\", new_user.shape[1])\n",
    "print(\"Columns in new_user:\", new_user.columns.tolist())\n"
   ]
  },
  {
   "cell_type": "code",
   "execution_count": 43,
   "metadata": {},
   "outputs": [],
   "source": [
    "new_user = new_user.reindex(columns=X.columns, fill_value=0)\n"
   ]
  },
  {
   "cell_type": "code",
   "execution_count": 44,
   "metadata": {},
   "outputs": [
    {
     "name": "stdout",
     "output_type": "stream",
     "text": [
      "Number of features in new_user (after reindex): 50\n",
      "Columns in new_user (after reindex): ['Q3', 'Q4', 'Q7', 'Q8', ' ', '&', \"'\", ',', '-', 'B', 'D', 'E', 'F', 'H', 'I', 'M', 'S', 'T', 'W', 'a', 'c', 'd', 'e', 'h', 'i', 'l', 'm', 'n', 'o', 'p', 'r', 's', 't', 'u', 'v', 'x', 'y', '{', '}', 'C', 'N', 'k', '(', ')', '.', 'K', 'O', 'b', 'g', 'w']\n"
     ]
    }
   ],
   "source": [
    "print(\"Number of features in new_user (after reindex):\", new_user.shape[1])\n",
    "print(\"Columns in new_user (after reindex):\", new_user.columns.tolist())\n"
   ]
  },
  {
   "cell_type": "code",
   "execution_count": 45,
   "metadata": {},
   "outputs": [
    {
     "name": "stdout",
     "output_type": "stream",
     "text": [
      "Number of features used to fit knn_model: 50\n"
     ]
    }
   ],
   "source": [
    "print(\"Number of features used to fit knn_model:\", knn_model.n_features_in_)\n"
   ]
  },
  {
   "cell_type": "code",
   "execution_count": 46,
   "metadata": {},
   "outputs": [],
   "source": [
    "new_user_array = new_user.values.reshape(1, -1)\n"
   ]
  },
  {
   "cell_type": "code",
   "execution_count": 47,
   "metadata": {},
   "outputs": [
    {
     "data": {
      "text/plain": [
       "(1, 50)"
      ]
     },
     "execution_count": 47,
     "metadata": {},
     "output_type": "execute_result"
    }
   ],
   "source": [
    "new_user_array.shape"
   ]
  },
  {
   "cell_type": "code",
   "execution_count": 49,
   "metadata": {},
   "outputs": [
    {
     "name": "stdout",
     "output_type": "stream",
     "text": [
      "Similar Users: [70 71 67 68 69 65 74 73 63 72]\n"
     ]
    },
    {
     "name": "stderr",
     "output_type": "stream",
     "text": [
      "c:\\Users\\DELL\\.conda\\envs\\condaenv\\Lib\\site-packages\\sklearn\\base.py:464: UserWarning: X does not have valid feature names, but NearestNeighbors was fitted with feature names\n",
      "  warnings.warn(\n"
     ]
    }
   ],
   "source": [
    "distances, indices = knn_model.kneighbors(new_user_array)\n",
    "\n",
    "# Retrieve similar user IDs\n",
    "similar_users = user_ids.iloc[indices[0]].values\n",
    "print(\"Similar Users:\", similar_users)\n"
   ]
  },
  {
   "cell_type": "code",
   "execution_count": null,
   "metadata": {},
   "outputs": [],
   "source": []
  }
 ],
 "metadata": {
  "kernelspec": {
   "display_name": "condaenv",
   "language": "python",
   "name": "python3"
  },
  "language_info": {
   "codemirror_mode": {
    "name": "ipython",
    "version": 3
   },
   "file_extension": ".py",
   "mimetype": "text/x-python",
   "name": "python",
   "nbconvert_exporter": "python",
   "pygments_lexer": "ipython3",
   "version": "3.12.0"
  }
 },
 "nbformat": 4,
 "nbformat_minor": 2
}
