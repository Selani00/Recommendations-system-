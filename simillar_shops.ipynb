{
 "cells": [
  {
   "cell_type": "code",
   "execution_count": 1,
   "metadata": {},
   "outputs": [],
   "source": [
    "import numpy as np\n",
    "import pandas as pd\n",
    "import sklearn\n",
    "import matplotlib.pyplot as plt\n",
    "import seaborn as sns\n",
    "import warnings\n",
    "warnings.simplefilter(action='ignore', category=FutureWarning)"
   ]
  },
  {
   "cell_type": "code",
   "execution_count": 2,
   "metadata": {},
   "outputs": [
    {
     "data": {
      "text/html": [
       "<div>\n",
       "<style scoped>\n",
       "    .dataframe tbody tr th:only-of-type {\n",
       "        vertical-align: middle;\n",
       "    }\n",
       "\n",
       "    .dataframe tbody tr th {\n",
       "        vertical-align: top;\n",
       "    }\n",
       "\n",
       "    .dataframe thead th {\n",
       "        text-align: right;\n",
       "    }\n",
       "</style>\n",
       "<table border=\"1\" class=\"dataframe\">\n",
       "  <thead>\n",
       "    <tr style=\"text-align: right;\">\n",
       "      <th></th>\n",
       "      <th>ShopID</th>\n",
       "      <th>UserID</th>\n",
       "      <th>Booking_count</th>\n",
       "      <th>Average_Booking_cost</th>\n",
       "    </tr>\n",
       "  </thead>\n",
       "  <tbody>\n",
       "    <tr>\n",
       "      <th>0</th>\n",
       "      <td>10</td>\n",
       "      <td>70</td>\n",
       "      <td>3</td>\n",
       "      <td>4210</td>\n",
       "    </tr>\n",
       "    <tr>\n",
       "      <th>1</th>\n",
       "      <td>10</td>\n",
       "      <td>95</td>\n",
       "      <td>1</td>\n",
       "      <td>2010</td>\n",
       "    </tr>\n",
       "    <tr>\n",
       "      <th>2</th>\n",
       "      <td>17</td>\n",
       "      <td>92</td>\n",
       "      <td>5</td>\n",
       "      <td>7113</td>\n",
       "    </tr>\n",
       "    <tr>\n",
       "      <th>3</th>\n",
       "      <td>12</td>\n",
       "      <td>78</td>\n",
       "      <td>7</td>\n",
       "      <td>13868</td>\n",
       "    </tr>\n",
       "    <tr>\n",
       "      <th>4</th>\n",
       "      <td>14</td>\n",
       "      <td>61</td>\n",
       "      <td>2</td>\n",
       "      <td>4894</td>\n",
       "    </tr>\n",
       "  </tbody>\n",
       "</table>\n",
       "</div>"
      ],
      "text/plain": [
       "   ShopID  UserID  Booking_count  Average_Booking_cost\n",
       "0      10      70              3                  4210\n",
       "1      10      95              1                  2010\n",
       "2      17      92              5                  7113\n",
       "3      12      78              7                 13868\n",
       "4      14      61              2                  4894"
      ]
     },
     "execution_count": 2,
     "metadata": {},
     "output_type": "execute_result"
    }
   ],
   "source": [
    "user_behavior = pd.read_excel('User_Behavior.xlsx')\n",
    "user_behavior.head()"
   ]
  },
  {
   "cell_type": "code",
   "execution_count": 3,
   "metadata": {},
   "outputs": [
    {
     "data": {
      "text/html": [
       "<div>\n",
       "<style scoped>\n",
       "    .dataframe tbody tr th:only-of-type {\n",
       "        vertical-align: middle;\n",
       "    }\n",
       "\n",
       "    .dataframe tbody tr th {\n",
       "        vertical-align: top;\n",
       "    }\n",
       "\n",
       "    .dataframe thead th {\n",
       "        text-align: right;\n",
       "    }\n",
       "</style>\n",
       "<table border=\"1\" class=\"dataframe\">\n",
       "  <thead>\n",
       "    <tr style=\"text-align: right;\">\n",
       "      <th></th>\n",
       "      <th>ShopID</th>\n",
       "      <th>ShopName</th>\n",
       "      <th>Country</th>\n",
       "      <th>Location_name</th>\n",
       "      <th>Location_long</th>\n",
       "      <th>Location_lat</th>\n",
       "      <th>Description</th>\n",
       "      <th>Shop_categories_main</th>\n",
       "      <th>Shop_categories_sub</th>\n",
       "      <th>Available_package_types</th>\n",
       "      <th>Total_Paid_Ads_Count_Current_Month</th>\n",
       "      <th>Total_Reviews_Count_Current_Month</th>\n",
       "      <th>Total_Bookings_Count_Current_Month</th>\n",
       "    </tr>\n",
       "  </thead>\n",
       "  <tbody>\n",
       "    <tr>\n",
       "      <th>0</th>\n",
       "      <td>1</td>\n",
       "      <td>Shop 1</td>\n",
       "      <td>Sri Lanka</td>\n",
       "      <td>Colombo</td>\n",
       "      <td>80.040023</td>\n",
       "      <td>7.726465</td>\n",
       "      <td>A top-rated beauty and wellness shop.</td>\n",
       "      <td>{'Health &amp; Medical'}</td>\n",
       "      <td>{'Salon', 'Spa'}</td>\n",
       "      <td>{'Skin Care'}</td>\n",
       "      <td>47</td>\n",
       "      <td>67</td>\n",
       "      <td>74</td>\n",
       "    </tr>\n",
       "    <tr>\n",
       "      <th>1</th>\n",
       "      <td>2</td>\n",
       "      <td>Shop 2</td>\n",
       "      <td>Sri Lanka</td>\n",
       "      <td>Jaffna</td>\n",
       "      <td>80.394852</td>\n",
       "      <td>8.345600</td>\n",
       "      <td>Known for luxury spa and salon services.</td>\n",
       "      <td>{'Beauty &amp; Wellness'}</td>\n",
       "      <td>{'Therapy', 'Fitness'}</td>\n",
       "      <td>{'Bridal Services'}</td>\n",
       "      <td>2</td>\n",
       "      <td>50</td>\n",
       "      <td>139</td>\n",
       "    </tr>\n",
       "    <tr>\n",
       "      <th>2</th>\n",
       "      <td>3</td>\n",
       "      <td>Shop 3</td>\n",
       "      <td>Sri Lanka</td>\n",
       "      <td>Galle</td>\n",
       "      <td>80.220322</td>\n",
       "      <td>6.439050</td>\n",
       "      <td>Specializes in bridal and event styling.</td>\n",
       "      <td>{'Beauty &amp; Wellness'}</td>\n",
       "      <td>{'Salon', 'Spa'}</td>\n",
       "      <td>{'Bridal Services'}</td>\n",
       "      <td>26</td>\n",
       "      <td>66</td>\n",
       "      <td>189</td>\n",
       "    </tr>\n",
       "    <tr>\n",
       "      <th>3</th>\n",
       "      <td>4</td>\n",
       "      <td>Shop 4</td>\n",
       "      <td>Sri Lanka</td>\n",
       "      <td>Jaffna</td>\n",
       "      <td>80.789110</td>\n",
       "      <td>6.462746</td>\n",
       "      <td>Provides affordable and quality care.</td>\n",
       "      <td>{'Health &amp; Medical'}</td>\n",
       "      <td>{'Bridal Services'}</td>\n",
       "      <td>{'Skin Care'}</td>\n",
       "      <td>27</td>\n",
       "      <td>1</td>\n",
       "      <td>96</td>\n",
       "    </tr>\n",
       "    <tr>\n",
       "      <th>4</th>\n",
       "      <td>5</td>\n",
       "      <td>Shop 5</td>\n",
       "      <td>Sri Lanka</td>\n",
       "      <td>Kandy</td>\n",
       "      <td>80.847519</td>\n",
       "      <td>8.877918</td>\n",
       "      <td>Known for luxury spa and salon services.</td>\n",
       "      <td>{'Health &amp; Medical'}</td>\n",
       "      <td>{'Salon', 'Spa'}</td>\n",
       "      <td>{'Fitness Packages'}</td>\n",
       "      <td>48</td>\n",
       "      <td>1</td>\n",
       "      <td>88</td>\n",
       "    </tr>\n",
       "  </tbody>\n",
       "</table>\n",
       "</div>"
      ],
      "text/plain": [
       "   ShopID ShopName    Country Location_name  Location_long  Location_lat  \\\n",
       "0       1   Shop 1  Sri Lanka       Colombo      80.040023      7.726465   \n",
       "1       2   Shop 2  Sri Lanka        Jaffna      80.394852      8.345600   \n",
       "2       3   Shop 3  Sri Lanka         Galle      80.220322      6.439050   \n",
       "3       4   Shop 4  Sri Lanka        Jaffna      80.789110      6.462746   \n",
       "4       5   Shop 5  Sri Lanka         Kandy      80.847519      8.877918   \n",
       "\n",
       "                                Description   Shop_categories_main  \\\n",
       "0     A top-rated beauty and wellness shop.   {'Health & Medical'}   \n",
       "1  Known for luxury spa and salon services.  {'Beauty & Wellness'}   \n",
       "2  Specializes in bridal and event styling.  {'Beauty & Wellness'}   \n",
       "3     Provides affordable and quality care.   {'Health & Medical'}   \n",
       "4  Known for luxury spa and salon services.   {'Health & Medical'}   \n",
       "\n",
       "      Shop_categories_sub Available_package_types  \\\n",
       "0        {'Salon', 'Spa'}           {'Skin Care'}   \n",
       "1  {'Therapy', 'Fitness'}     {'Bridal Services'}   \n",
       "2        {'Salon', 'Spa'}     {'Bridal Services'}   \n",
       "3     {'Bridal Services'}           {'Skin Care'}   \n",
       "4        {'Salon', 'Spa'}    {'Fitness Packages'}   \n",
       "\n",
       "   Total_Paid_Ads_Count_Current_Month  Total_Reviews_Count_Current_Month  \\\n",
       "0                                  47                                 67   \n",
       "1                                   2                                 50   \n",
       "2                                  26                                 66   \n",
       "3                                  27                                  1   \n",
       "4                                  48                                  1   \n",
       "\n",
       "   Total_Bookings_Count_Current_Month  \n",
       "0                                  74  \n",
       "1                                 139  \n",
       "2                                 189  \n",
       "3                                  96  \n",
       "4                                  88  "
      ]
     },
     "execution_count": 3,
     "metadata": {},
     "output_type": "execute_result"
    }
   ],
   "source": [
    "shop_data = pd.read_excel('Shop_Data.xlsx')\n",
    "shop_data.head()"
   ]
  },
  {
   "cell_type": "code",
   "execution_count": 4,
   "metadata": {},
   "outputs": [],
   "source": [
    "from sklearn.preprocessing import MultiLabelBinarizer\n",
    "\n",
    "mlb = MultiLabelBinarizer()\n",
    "\n",
    "main_shop_cat = pd.DataFrame(mlb.fit_transform(shop_data['Shop_categories_main']), columns=mlb.classes_, index=shop_data.index)\n",
    "sub_shop_cat = pd.DataFrame(mlb.fit_transform(shop_data['Shop_categories_sub']), columns=mlb.classes_, index=shop_data.index)\n",
    "packages_types = pd.DataFrame(mlb.fit_transform(shop_data['Available_package_types']), columns=mlb.classes_, index=shop_data.index)\n",
    "\n",
    "# Add binarized data to user_data\n",
    "shop_data = pd.concat([shop_data, main_shop_cat, sub_shop_cat,packages_types], axis=1)"
   ]
  },
  {
   "cell_type": "code",
   "execution_count": 5,
   "metadata": {},
   "outputs": [],
   "source": [
    "shop_data = shop_data.drop(['Shop_categories_main', 'Shop_categories_sub', 'Available_package_types'], axis=1)"
   ]
  },
  {
   "cell_type": "code",
   "execution_count": 6,
   "metadata": {},
   "outputs": [
    {
     "data": {
      "text/plain": [
       "(100, 89)"
      ]
     },
     "execution_count": 6,
     "metadata": {},
     "output_type": "execute_result"
    }
   ],
   "source": [
    "shop_data.shape"
   ]
  },
  {
   "cell_type": "code",
   "execution_count": 7,
   "metadata": {},
   "outputs": [
    {
     "name": "stdout",
     "output_type": "stream",
     "text": [
      "Duplicate columns in X: [' ', \"'\", 'B', 'S', 'a', 'c', 'd', 'e', 'h', 'i', 'l', 'n', 'o', 'p', 'r', 's', 't', 'v', 'y', '{', '}', ' ', \"'\", ',', 'B', 'C', 'F', 'H', 'S', 'a', 'c', 'd', 'e', 'i', 'l', 'n', 'r', 's', 't', 'v', '{', '}']\n"
     ]
    }
   ],
   "source": [
    "print(\"Duplicate columns in X:\", shop_data.columns[shop_data.columns.duplicated()].tolist())"
   ]
  },
  {
   "cell_type": "code",
   "execution_count": 8,
   "metadata": {},
   "outputs": [],
   "source": [
    "shop_data = shop_data.loc[:, ~shop_data.columns.duplicated()]"
   ]
  },
  {
   "cell_type": "code",
   "execution_count": 9,
   "metadata": {},
   "outputs": [
    {
     "name": "stdout",
     "output_type": "stream",
     "text": [
      "Duplicate columns in X: []\n"
     ]
    }
   ],
   "source": [
    "print(\"Duplicate columns in X:\", shop_data.columns[shop_data.columns.duplicated()].tolist())"
   ]
  },
  {
   "cell_type": "code",
   "execution_count": 10,
   "metadata": {},
   "outputs": [
    {
     "data": {
      "text/plain": [
       "(100, 47)"
      ]
     },
     "execution_count": 10,
     "metadata": {},
     "output_type": "execute_result"
    }
   ],
   "source": [
    "shop_data.shape"
   ]
  },
  {
   "cell_type": "code",
   "execution_count": 11,
   "metadata": {},
   "outputs": [
    {
     "data": {
      "text/html": [
       "<div>\n",
       "<style scoped>\n",
       "    .dataframe tbody tr th:only-of-type {\n",
       "        vertical-align: middle;\n",
       "    }\n",
       "\n",
       "    .dataframe tbody tr th {\n",
       "        vertical-align: top;\n",
       "    }\n",
       "\n",
       "    .dataframe thead th {\n",
       "        text-align: right;\n",
       "    }\n",
       "</style>\n",
       "<table border=\"1\" class=\"dataframe\">\n",
       "  <thead>\n",
       "    <tr style=\"text-align: right;\">\n",
       "      <th></th>\n",
       "      <th>ShopID</th>\n",
       "      <th>ShopName</th>\n",
       "      <th>Country</th>\n",
       "      <th>Location_name</th>\n",
       "      <th>Location_long</th>\n",
       "      <th>Location_lat</th>\n",
       "      <th>Description</th>\n",
       "      <th>Total_Paid_Ads_Count_Current_Month</th>\n",
       "      <th>Total_Reviews_Count_Current_Month</th>\n",
       "      <th>Total_Bookings_Count_Current_Month</th>\n",
       "      <th>...</th>\n",
       "      <th>}</th>\n",
       "      <th>,</th>\n",
       "      <th>C</th>\n",
       "      <th>F</th>\n",
       "      <th>T</th>\n",
       "      <th>m</th>\n",
       "      <th>N</th>\n",
       "      <th>P</th>\n",
       "      <th>g</th>\n",
       "      <th>k</th>\n",
       "    </tr>\n",
       "  </thead>\n",
       "  <tbody>\n",
       "    <tr>\n",
       "      <th>0</th>\n",
       "      <td>1</td>\n",
       "      <td>Shop 1</td>\n",
       "      <td>Sri Lanka</td>\n",
       "      <td>Colombo</td>\n",
       "      <td>80.040023</td>\n",
       "      <td>7.726465</td>\n",
       "      <td>A top-rated beauty and wellness shop.</td>\n",
       "      <td>47</td>\n",
       "      <td>67</td>\n",
       "      <td>74</td>\n",
       "      <td>...</td>\n",
       "      <td>1</td>\n",
       "      <td>1</td>\n",
       "      <td>0</td>\n",
       "      <td>0</td>\n",
       "      <td>0</td>\n",
       "      <td>0</td>\n",
       "      <td>0</td>\n",
       "      <td>0</td>\n",
       "      <td>0</td>\n",
       "      <td>1</td>\n",
       "    </tr>\n",
       "    <tr>\n",
       "      <th>1</th>\n",
       "      <td>2</td>\n",
       "      <td>Shop 2</td>\n",
       "      <td>Sri Lanka</td>\n",
       "      <td>Jaffna</td>\n",
       "      <td>80.394852</td>\n",
       "      <td>8.345600</td>\n",
       "      <td>Known for luxury spa and salon services.</td>\n",
       "      <td>2</td>\n",
       "      <td>50</td>\n",
       "      <td>139</td>\n",
       "      <td>...</td>\n",
       "      <td>1</td>\n",
       "      <td>1</td>\n",
       "      <td>0</td>\n",
       "      <td>1</td>\n",
       "      <td>1</td>\n",
       "      <td>0</td>\n",
       "      <td>0</td>\n",
       "      <td>0</td>\n",
       "      <td>0</td>\n",
       "      <td>0</td>\n",
       "    </tr>\n",
       "    <tr>\n",
       "      <th>2</th>\n",
       "      <td>3</td>\n",
       "      <td>Shop 3</td>\n",
       "      <td>Sri Lanka</td>\n",
       "      <td>Galle</td>\n",
       "      <td>80.220322</td>\n",
       "      <td>6.439050</td>\n",
       "      <td>Specializes in bridal and event styling.</td>\n",
       "      <td>26</td>\n",
       "      <td>66</td>\n",
       "      <td>189</td>\n",
       "      <td>...</td>\n",
       "      <td>1</td>\n",
       "      <td>1</td>\n",
       "      <td>0</td>\n",
       "      <td>0</td>\n",
       "      <td>0</td>\n",
       "      <td>0</td>\n",
       "      <td>0</td>\n",
       "      <td>0</td>\n",
       "      <td>0</td>\n",
       "      <td>0</td>\n",
       "    </tr>\n",
       "    <tr>\n",
       "      <th>3</th>\n",
       "      <td>4</td>\n",
       "      <td>Shop 4</td>\n",
       "      <td>Sri Lanka</td>\n",
       "      <td>Jaffna</td>\n",
       "      <td>80.789110</td>\n",
       "      <td>6.462746</td>\n",
       "      <td>Provides affordable and quality care.</td>\n",
       "      <td>27</td>\n",
       "      <td>1</td>\n",
       "      <td>96</td>\n",
       "      <td>...</td>\n",
       "      <td>1</td>\n",
       "      <td>0</td>\n",
       "      <td>0</td>\n",
       "      <td>0</td>\n",
       "      <td>0</td>\n",
       "      <td>0</td>\n",
       "      <td>0</td>\n",
       "      <td>0</td>\n",
       "      <td>0</td>\n",
       "      <td>1</td>\n",
       "    </tr>\n",
       "    <tr>\n",
       "      <th>4</th>\n",
       "      <td>5</td>\n",
       "      <td>Shop 5</td>\n",
       "      <td>Sri Lanka</td>\n",
       "      <td>Kandy</td>\n",
       "      <td>80.847519</td>\n",
       "      <td>8.877918</td>\n",
       "      <td>Known for luxury spa and salon services.</td>\n",
       "      <td>48</td>\n",
       "      <td>1</td>\n",
       "      <td>88</td>\n",
       "      <td>...</td>\n",
       "      <td>1</td>\n",
       "      <td>1</td>\n",
       "      <td>0</td>\n",
       "      <td>0</td>\n",
       "      <td>0</td>\n",
       "      <td>0</td>\n",
       "      <td>0</td>\n",
       "      <td>1</td>\n",
       "      <td>1</td>\n",
       "      <td>1</td>\n",
       "    </tr>\n",
       "  </tbody>\n",
       "</table>\n",
       "<p>5 rows × 47 columns</p>\n",
       "</div>"
      ],
      "text/plain": [
       "   ShopID ShopName    Country Location_name  Location_long  Location_lat  \\\n",
       "0       1   Shop 1  Sri Lanka       Colombo      80.040023      7.726465   \n",
       "1       2   Shop 2  Sri Lanka        Jaffna      80.394852      8.345600   \n",
       "2       3   Shop 3  Sri Lanka         Galle      80.220322      6.439050   \n",
       "3       4   Shop 4  Sri Lanka        Jaffna      80.789110      6.462746   \n",
       "4       5   Shop 5  Sri Lanka         Kandy      80.847519      8.877918   \n",
       "\n",
       "                                Description  \\\n",
       "0     A top-rated beauty and wellness shop.   \n",
       "1  Known for luxury spa and salon services.   \n",
       "2  Specializes in bridal and event styling.   \n",
       "3     Provides affordable and quality care.   \n",
       "4  Known for luxury spa and salon services.   \n",
       "\n",
       "   Total_Paid_Ads_Count_Current_Month  Total_Reviews_Count_Current_Month  \\\n",
       "0                                  47                                 67   \n",
       "1                                   2                                 50   \n",
       "2                                  26                                 66   \n",
       "3                                  27                                  1   \n",
       "4                                  48                                  1   \n",
       "\n",
       "   Total_Bookings_Count_Current_Month  ...  }  ,  C  F  T  m  N  P  g  k  \n",
       "0                                  74  ...  1  1  0  0  0  0  0  0  0  1  \n",
       "1                                 139  ...  1  1  0  1  1  0  0  0  0  0  \n",
       "2                                 189  ...  1  1  0  0  0  0  0  0  0  0  \n",
       "3                                  96  ...  1  0  0  0  0  0  0  0  0  1  \n",
       "4                                  88  ...  1  1  0  0  0  0  0  1  1  1  \n",
       "\n",
       "[5 rows x 47 columns]"
      ]
     },
     "execution_count": 11,
     "metadata": {},
     "output_type": "execute_result"
    }
   ],
   "source": [
    "shop_data.head()"
   ]
  },
  {
   "cell_type": "code",
   "execution_count": 12,
   "metadata": {},
   "outputs": [
    {
     "name": "stdout",
     "output_type": "stream",
     "text": [
      "Number of unique shopId's: 20\n",
      "Number of unique users: 19\n",
      "Average bookings per user: 5.26\n",
      "Average shops per user: 5.0\n"
     ]
    }
   ],
   "source": [
    "n = len(user_behavior)\n",
    "n_shops = len(user_behavior['ShopID'].unique())\n",
    "n_books = len(user_behavior['Booking_count'].unique())\n",
    "\n",
    "print(f\"Number of unique shopId's: {n_shops}\")\n",
    "print(f\"Number of unique users: {n_books}\")\n",
    "print(f\"Average bookings per user: {round(n/n_books, 2)}\")\n",
    "print(f\"Average shops per user: {round(n/n_shops, 2)}\")"
   ]
  },
  {
   "cell_type": "code",
   "execution_count": 13,
   "metadata": {},
   "outputs": [
    {
     "name": "stdout",
     "output_type": "stream",
     "text": [
      "   UserID  Booking_count\n",
      "0       1              1\n",
      "1       2              1\n",
      "2       3              1\n",
      "3       4              2\n",
      "4       5              1\n"
     ]
    }
   ],
   "source": [
    "# User Rating Frequency\n",
    "\n",
    "user_freq = user_behavior[['UserID', 'ShopID']].groupby('UserID').count().reset_index()\n",
    "user_freq.columns = ['UserID', 'Booking_count']\n",
    "\n",
    "print(user_freq.head())"
   ]
  },
  {
   "cell_type": "code",
   "execution_count": 14,
   "metadata": {},
   "outputs": [],
   "source": [
    "# Now, we create user-item matrix using scipy csr matrix\n",
    "from scipy.sparse import csr_matrix\n",
    "\n",
    "def create_matrix(df):\n",
    "    \n",
    "    N = len(df['UserID'].unique())\n",
    "    M = len(df['ShopID'].unique())\n",
    "    \n",
    "    # Map Ids to indices\n",
    "    user_mapper = dict(zip(np.unique(df[\"UserID\"]), list(range(N))))\n",
    "    shop_mapper = dict(zip(np.unique(df[\"ShopID\"]), list(range(M))))\n",
    "    \n",
    "    # Map indices to IDs\n",
    "    user_inv_mapper = dict(zip(list(range(N)), np.unique(df[\"UserID\"])))\n",
    "    shop_inv_mapper = dict(zip(list(range(M)), np.unique(df[\"ShopID\"])))\n",
    "    \n",
    "    user_index = [user_mapper[i] for i in df['UserID']]\n",
    "    shop_index = [shop_mapper[i] for i in df['ShopID']]\n",
    "\n",
    "    X = csr_matrix((df[\"Booking_count\"], (shop_index, user_index)), shape=(M, N))\n",
    "    \n",
    "    return X, user_mapper, shop_mapper, user_inv_mapper, shop_inv_mapper\n",
    "    \n",
    "X, user_mapper, shop_mapper, user_inv_mapper, shop_inv_mapper = create_matrix(user_behavior)"
   ]
  },
  {
   "cell_type": "code",
   "execution_count": 15,
   "metadata": {},
   "outputs": [],
   "source": [
    "# new matrix with country\n",
    "\n",
    "from scipy.sparse import csr_matrix\n",
    "import numpy as np\n",
    "\n",
    "def create_matrix(df, country=None):\n",
    "    \"\"\"\n",
    "    Create user-item matrix with an optional country filter.\n",
    "    \"\"\"\n",
    "    if country and shop_data is not None:\n",
    "        # Filter shops by country\n",
    "        valid_shop_ids = shop_data[shop_data['Country'] == country]['ShopID']\n",
    "        df = df[df['ShopID'].isin(valid_shop_ids)]\n",
    "\n",
    "    N = len(df['UserID'].unique())\n",
    "    M = len(df['ShopID'].unique())\n",
    "    \n",
    "    # Map IDs to indices\n",
    "    user_mapper = dict(zip(np.unique(df[\"UserID\"]), list(range(N))))\n",
    "    shop_mapper = dict(zip(np.unique(df[\"ShopID\"]), list(range(M))))\n",
    "    \n",
    "    # Map indices to IDs\n",
    "    user_inv_mapper = dict(zip(list(range(N)), np.unique(df[\"UserID\"])))\n",
    "    shop_inv_mapper = dict(zip(list(range(M)), np.unique(df[\"ShopID\"])))\n",
    "    \n",
    "    user_index = [user_mapper[i] for i in df['UserID']]\n",
    "    shop_index = [shop_mapper[i] for i in df['ShopID']]\n",
    "\n",
    "    X = csr_matrix((df[\"Booking_count\"], (shop_index, user_index)), shape=(M, N))\n",
    "    \n",
    "    return X, user_mapper, shop_mapper, user_inv_mapper, shop_inv_mapper\n"
   ]
  },
  {
   "cell_type": "code",
   "execution_count": 16,
   "metadata": {},
   "outputs": [],
   "source": [
    "X, user_mapper, shop_mapper, user_inv_mapper, shop_inv_mapper = create_matrix(user_behavior,\"Sri Lanka\")"
   ]
  },
  {
   "cell_type": "code",
   "execution_count": 17,
   "metadata": {},
   "outputs": [
    {
     "name": "stdout",
     "output_type": "stream",
     "text": [
      "Since you watched Shop 10\n",
      "[8, 4, 13, 19, 18, 17, 16, 15, 14, 1]\n"
     ]
    }
   ],
   "source": [
    "\"\"\"\n",
    "Find similar shops using KNN\n",
    "\"\"\"\n",
    "from sklearn.neighbors import NearestNeighbors\n",
    "def find_similar_shops(shop_id, X, k, metric='cosine', show_distance=False):\n",
    "    \n",
    "    neighbour_ids = []\n",
    "    \n",
    "    shop_ind = shop_mapper[shop_id]\n",
    "    shop_vec = X[shop_ind]\n",
    "    k+=1\n",
    "    kNN = NearestNeighbors(n_neighbors=k, algorithm=\"brute\", metric=metric)\n",
    "    kNN.fit(X)\n",
    "    shop_vec = shop_vec.reshape(1,-1)\n",
    "    neighbour = kNN.kneighbors(shop_vec, return_distance=show_distance)\n",
    "    for i in range(0,k):\n",
    "        n = neighbour.item(i)\n",
    "        neighbour_ids.append(shop_inv_mapper[n])\n",
    "    neighbour_ids.pop(0)\n",
    "    return neighbour_ids\n",
    "\n",
    "\n",
    "shop_name = dict(zip(shop_data['ShopID'], shop_data['ShopName']))\n",
    "\n",
    "shop_id = 10\n",
    "\n",
    "similar_ids = find_similar_shops(shop_id, X, k=10)\n",
    "movie_title = shop_name[shop_id]\n",
    "\n",
    "print(f\"Since you watched {movie_title}\")\n",
    "print(similar_ids)"
   ]
  },
  {
   "cell_type": "markdown",
   "metadata": {},
   "source": [
    "### Shops Recommendation with respect to Users Preference"
   ]
  },
  {
   "cell_type": "code",
   "execution_count": 18,
   "metadata": {},
   "outputs": [],
   "source": [
    "def recommend_shops_for_user(user_id, X, user_mapper, shop_mapper, shop_inv_mapper, k=10):\n",
    "    # Filter the user behavior data for the given user_id\n",
    "    df1 = user_behavior[user_behavior['UserID'] == user_id]\n",
    "    \n",
    "    if df1.empty:\n",
    "        print(f\"User with ID {user_id} does not exist.\")\n",
    "        return []\n",
    "\n",
    "    # Find the shop ID with the highest booking count for the user\n",
    "    shop_id = df1[df1['Booking_count'] == max(df1['Booking_count'])]['ShopID'].iloc[0]\n",
    "\n",
    "    # Create a mapping of shop IDs to shop names (optional for debugging)\n",
    "    shop_name_mapping = dict(zip(shop_data['ShopID'], shop_data['ShopName']))\n",
    "\n",
    "    # Get the name of the shop/movie (optional for debugging)\n",
    "    shop_name = shop_name_mapping.get(shop_id, \"Movie not found\")\n",
    "\n",
    "    if shop_name == \"Movie not found\":\n",
    "        print(f\"Movie with ID {shop_id} not found.\")\n",
    "        return []\n",
    "\n",
    "    # Find similar shops/movies by IDs\n",
    "    similar_ids = find_similar_shops(shop_id, X, k)\n",
    "\n",
    "    print(f\"Since you watched {shop_name} (ID: {shop_id}), you might also like these IDs:\")\n",
    "    # Return the IDs of similar movies or shops\n",
    "    return similar_ids\n"
   ]
  },
  {
   "cell_type": "code",
   "execution_count": 19,
   "metadata": {},
   "outputs": [
    {
     "name": "stdout",
     "output_type": "stream",
     "text": [
      "Since you watched Shop 3 (ID: 3), you might also like these IDs:\n"
     ]
    },
    {
     "data": {
      "text/plain": [
       "[9, 1, 15, 18, 13]"
      ]
     },
     "execution_count": 19,
     "metadata": {},
     "output_type": "execute_result"
    }
   ],
   "source": [
    "user_id = 60  # Replace with the desired user ID\n",
    "recommend_shops_for_user(user_id, X, user_mapper, shop_mapper, shop_inv_mapper, k=5)"
   ]
  },
  {
   "cell_type": "code",
   "execution_count": null,
   "metadata": {},
   "outputs": [],
   "source": []
  }
 ],
 "metadata": {
  "kernelspec": {
   "display_name": "condaenv",
   "language": "python",
   "name": "python3"
  },
  "language_info": {
   "codemirror_mode": {
    "name": "ipython",
    "version": 3
   },
   "file_extension": ".py",
   "mimetype": "text/x-python",
   "name": "python",
   "nbconvert_exporter": "python",
   "pygments_lexer": "ipython3",
   "version": "3.12.0"
  }
 },
 "nbformat": 4,
 "nbformat_minor": 2
}
